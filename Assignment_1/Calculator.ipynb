{
 "cells": [
  {
   "cell_type": "code",
   "execution_count": 22,
   "id": "93f632c7-f723-4ee6-81f5-362fd1c9cb53",
   "metadata": {},
   "outputs": [
    {
     "name": "stdin",
     "output_type": "stream",
     "text": [
      "Enter the first number a\n"
     ]
    },
    {
     "name": "stdout",
     "output_type": "stream",
     "text": [
      "Please enter number only\n"
     ]
    },
    {
     "name": "stdin",
     "output_type": "stream",
     "text": [
      "Enter the first number 12\n"
     ]
    },
    {
     "name": "stdout",
     "output_type": "stream",
     "text": [
      "a= 12.0\n"
     ]
    },
    {
     "name": "stdin",
     "output_type": "stream",
     "text": [
      "Enter the second number 0\n"
     ]
    },
    {
     "name": "stdout",
     "output_type": "stream",
     "text": [
      "b = 0.0\n",
      "Arithmetic Operations\n",
      "              1. Addition \n",
      "              2. Subtraction\n",
      "              3. Multiplication\n",
      "              4. Division\n",
      "              \n"
     ]
    },
    {
     "name": "stdin",
     "output_type": "stream",
     "text": [
      "Choose the operation number which you want to perform 4\n"
     ]
    },
    {
     "name": "stdout",
     "output_type": "stream",
     "text": [
      "Denominator cannot be zero. Please enter number other than zero for denominator\n"
     ]
    },
    {
     "name": "stdin",
     "output_type": "stream",
     "text": [
      "Do you want to perform another calculation (yes/no)?  se\n"
     ]
    },
    {
     "name": "stdout",
     "output_type": "stream",
     "text": [
      "Please enter yes or no. Do you want to perform another operation?\n"
     ]
    },
    {
     "name": "stdin",
     "output_type": "stream",
     "text": [
      "Do you want to perform another calculation (yes/no)?  yes\n",
      "Enter the first number 12\n"
     ]
    },
    {
     "name": "stdout",
     "output_type": "stream",
     "text": [
      "a= 12.0\n"
     ]
    },
    {
     "name": "stdin",
     "output_type": "stream",
     "text": [
      "Enter the second number 12\n"
     ]
    },
    {
     "name": "stdout",
     "output_type": "stream",
     "text": [
      "b = 12.0\n",
      "Arithmetic Operations\n",
      "              1. Addition \n",
      "              2. Subtraction\n",
      "              3. Multiplication\n",
      "              4. Division\n",
      "              \n"
     ]
    },
    {
     "name": "stdin",
     "output_type": "stream",
     "text": [
      "Choose the operation number which you want to perform 7\n"
     ]
    },
    {
     "name": "stdout",
     "output_type": "stream",
     "text": [
      "choose correct operation number\n"
     ]
    },
    {
     "name": "stdin",
     "output_type": "stream",
     "text": [
      "Choose the operation number which you want to perform 2\n"
     ]
    },
    {
     "name": "stdout",
     "output_type": "stream",
     "text": [
      "0.0\n"
     ]
    },
    {
     "name": "stdin",
     "output_type": "stream",
     "text": [
      "Do you want to perform another calculation (yes/no)?  no\n"
     ]
    },
    {
     "name": "stdout",
     "output_type": "stream",
     "text": [
      "Goodbye\n"
     ]
    }
   ],
   "source": [
    "def operation():\n",
    "    while True:\n",
    "        try:\n",
    "            a = float(input('Enter the first number'))\n",
    "            print(f\"a= {a}\")\n",
    "            b = float(input('Enter the second number'))\n",
    "            print(f\"b = {b}\")\n",
    "            print(\"\"\"Arithmetic Operations\n",
    "              1. Addition \n",
    "              2. Subtraction\n",
    "              3. Multiplication\n",
    "              4. Division\n",
    "              \"\"\")\n",
    "\n",
    "            while True:\n",
    "                try:\n",
    "                    \n",
    "                \n",
    "                    c = int(input('Choose the operation number which you want to perform'))\n",
    "                    if c == 1:\n",
    "                        print(a + b)\n",
    "                        break\n",
    "                    elif c == 2:\n",
    "                        print(a - b)\n",
    "                        break\n",
    "                    elif c == 3:\n",
    "                        print(a * b)\n",
    "                        break\n",
    "                    elif c == 4:\n",
    "                        if b == 0:\n",
    "                            print('Denominator cannot be zero. Please enter number other than zero for denominator')\n",
    "                            break\n",
    "                        else:\n",
    "                            print(a/b)\n",
    "                            break\n",
    "                    else:\n",
    "                        print('choose correct operation number')\n",
    "\n",
    "                \n",
    "                except:\n",
    "                    print('Please enter number only')\n",
    "                        \n",
    "            \n",
    "            while True:\n",
    "                \n",
    "                d = input('Do you want to perform another calculation (yes/no)? ').strip().lower()\n",
    "                if d == 'yes':\n",
    "                    break\n",
    "                elif d == 'no':\n",
    "                    print('Goodbye')\n",
    "                    return\n",
    "            \n",
    "                else:\n",
    "                    print('Please enter yes or no. Do you want to perform another operation?')\n",
    "                \n",
    "\n",
    "        except:\n",
    "            print('Please enter number only')\n",
    "\n",
    "operation()\n"
   ]
  },
  {
   "cell_type": "code",
   "execution_count": null,
   "id": "4577ca04-e5bb-4d56-b0f8-b092c240243e",
   "metadata": {},
   "outputs": [],
   "source": []
  }
 ],
 "metadata": {
  "kernelspec": {
   "display_name": "Python 3 (ipykernel)",
   "language": "python",
   "name": "python3"
  },
  "language_info": {
   "codemirror_mode": {
    "name": "ipython",
    "version": 3
   },
   "file_extension": ".py",
   "mimetype": "text/x-python",
   "name": "python",
   "nbconvert_exporter": "python",
   "pygments_lexer": "ipython3",
   "version": "3.12.4"
  }
 },
 "nbformat": 4,
 "nbformat_minor": 5
}
